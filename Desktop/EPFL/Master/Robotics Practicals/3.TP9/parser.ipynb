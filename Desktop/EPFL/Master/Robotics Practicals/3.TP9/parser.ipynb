{
 "cells": [
  {
   "cell_type": "code",
   "execution_count": 17,
   "metadata": {},
   "outputs": [],
   "source": [
    "import pandas as pd\n",
    "import numpy as np\n",
    "import re"
   ]
  },
  {
   "cell_type": "markdown",
   "metadata": {},
   "source": [
    "## Demonstration"
   ]
  },
  {
   "cell_type": "code",
   "execution_count": 155,
   "metadata": {},
   "outputs": [],
   "source": [
    "DATA_PATH = './ROS_Cellulo/ros_cellulo_practical/data/'\n",
    "\n",
    "data_test = pd.read_csv(DATA_PATH+\"Aggregation_field/tf_echo_00_06_66_D2_CF_7B-15-stdout.log\", sep=\"\\n\")\n"
   ]
  },
  {
   "cell_type": "code",
   "execution_count": 165,
   "metadata": {},
   "outputs": [],
   "source": [
    "def find_x(row):\n",
    "    '''\n",
    "    returns the first number of - Translation: [0.955, 0.605, 0.000]\n",
    "    '''\n",
    "    match = re.search('\\[(.*)\\,.*' , row)\n",
    "    result = [x.strip() for x in match.group(1).split(',')]\n",
    "    return result[0]\n",
    "\n",
    "def find_y(row):\n",
    "    '''\n",
    "    returns the second number of - Translation: [0.955, 0.605, 0.000]\n",
    "    '''\n",
    "    match = re.search('\\[(.*)\\,.*' , row)\n",
    "    result = [x.strip() for x in match.group(1).split(',')]\n",
    "    return result[1]\n",
    "#Ex of log:\n",
    "    #Failure at 1554129972.459426873\n",
    "    #Exception thrown:\"00_06_66_D2_CF_7B\" passed to lookupTransform argument source_frame does not exist. \n",
    "    #The current list of frames is:\n",
    "    #Frame paper_world exists with parent base_footprint.\n",
    "\n",
    "    #At time 1554129972.517\n",
    "    #- Translation: [0.955, 0.605, 0.000]\n",
    "    #- Rotation: in Quaternion [0.000, 0.000, -0.776, 0.630]\n",
    "    #            in RPY (radian) [0.000, -0.000, -1.777]\n",
    "    #            in RPY (degree) [0.000, -0.000, -101.840]\n",
    "#Keeping only lines starting with \"translation\"\n",
    "translation_data = data_test[data_test.squeeze().str.contains('Translation')].copy()"
   ]
  },
  {
   "cell_type": "code",
   "execution_count": 166,
   "metadata": {},
   "outputs": [],
   "source": [
    "translation_data['x'] = translation_data.apply(lambda row: find_x(row.values[0]),axis=1)\n",
    "translation_data['y'] = translation_data.apply(lambda row: find_y(row.values[0]),axis=1)"
   ]
  },
  {
   "cell_type": "code",
   "execution_count": 168,
   "metadata": {},
   "outputs": [
    {
     "data": {
      "text/html": [
       "<div>\n",
       "<style scoped>\n",
       "    .dataframe tbody tr th:only-of-type {\n",
       "        vertical-align: middle;\n",
       "    }\n",
       "\n",
       "    .dataframe tbody tr th {\n",
       "        vertical-align: top;\n",
       "    }\n",
       "\n",
       "    .dataframe thead th {\n",
       "        text-align: right;\n",
       "    }\n",
       "</style>\n",
       "<table border=\"1\" class=\"dataframe\">\n",
       "  <thead>\n",
       "    <tr style=\"text-align: right;\">\n",
       "      <th></th>\n",
       "      <th>x</th>\n",
       "      <th>y</th>\n",
       "    </tr>\n",
       "  </thead>\n",
       "  <tbody>\n",
       "    <tr>\n",
       "      <th>0</th>\n",
       "      <td>65.176</td>\n",
       "      <td>448.452</td>\n",
       "    </tr>\n",
       "    <tr>\n",
       "      <th>1</th>\n",
       "      <td>65.136</td>\n",
       "      <td>448.442</td>\n",
       "    </tr>\n",
       "    <tr>\n",
       "      <th>2</th>\n",
       "      <td>66.533</td>\n",
       "      <td>448.889</td>\n",
       "    </tr>\n",
       "    <tr>\n",
       "      <th>3</th>\n",
       "      <td>66.406</td>\n",
       "      <td>448.737</td>\n",
       "    </tr>\n",
       "    <tr>\n",
       "      <th>4</th>\n",
       "      <td>66.289</td>\n",
       "      <td>448.727</td>\n",
       "    </tr>\n",
       "  </tbody>\n",
       "</table>\n",
       "</div>"
      ],
      "text/plain": [
       "        x        y\n",
       "0  65.176  448.452\n",
       "1  65.136  448.442\n",
       "2  66.533  448.889\n",
       "3  66.406  448.737\n",
       "4  66.289  448.727"
      ]
     },
     "execution_count": 168,
     "metadata": {},
     "output_type": "execute_result"
    }
   ],
   "source": [
    "parsed_data = translation_data.drop(translation_data.columns[0], axis=1).\\\n",
    "                                drop(translation_data.index[0]).reset_index(drop=True)\n",
    "parsed_data.head()"
   ]
  },
  {
   "cell_type": "markdown",
   "metadata": {},
   "source": [
    "## Real Work"
   ]
  },
  {
   "cell_type": "code",
   "execution_count": 188,
   "metadata": {},
   "outputs": [],
   "source": [
    "situations = [\"Aggregation_field\", \"Aggregation_field_param_lowMu\", \\\n",
    "              \"Aggregation_naive_neigh_obst\",\"Aggregation_naive_obst_neigh\", \\\n",
    "              \"Coverage_10timesGainR\", \"Coverage_10timesGainR_low_Mu\",\\\n",
    "              \"Coverage_default\", \"Coverage_perturbation\", \"Interaction\"]\n",
    "robot_logs = [\"tf_echo_00_06_66_D2_CF_7B-15-stdout.log\",\\\n",
    "             \"tf_echo_00_06_66_E7_8A_CA-14-stdout.log\", \\\n",
    "             \"tf_echo_00_06_66_E7_8A_D6-16-stdout.log\", \\\n",
    "             \"tf_echo_00_06_66_E7_8E_BD-17-stdout.log\"]\n",
    "\n",
    "robot_positions = []\n",
    "#for all situation\n",
    "for situation in situations:\n",
    "    pos = []\n",
    "    #for all robots\n",
    "    for robot, robot_num in zip(robot_logs, range(4)):\n",
    "        #import data\n",
    "        df = pd.read_csv(DATA_PATH + situation + '/' + robot, sep=\"\\n\")\n",
    "        #keeps only translation info\n",
    "        translation_data = data_test[data_test.squeeze().str.contains('Translation')].copy()\n",
    "        #parse to get x and y values\n",
    "        translation_data['x'] = translation_data.apply(lambda row: find_x(row.values[0]),axis=1)\n",
    "        translation_data['y'] = translation_data.apply(lambda row: find_y(row.values[0]),axis=1)\n",
    "        \n",
    "        pos.append(translation_data.drop(translation_data.columns[0], axis=1).\\\n",
    "                                drop(translation_data.index[0]).reset_index(drop=True))\n",
    "    robot_positions.append(pos)\n",
    "        \n"
   ]
  },
  {
   "cell_type": "code",
   "execution_count": null,
   "metadata": {},
   "outputs": [],
   "source": []
  }
 ],
 "metadata": {
  "kernelspec": {
   "display_name": "Python 3",
   "language": "python",
   "name": "python3"
  },
  "language_info": {
   "codemirror_mode": {
    "name": "ipython",
    "version": 3
   },
   "file_extension": ".py",
   "mimetype": "text/x-python",
   "name": "python",
   "nbconvert_exporter": "python",
   "pygments_lexer": "ipython3",
   "version": "3.7.2"
  }
 },
 "nbformat": 4,
 "nbformat_minor": 2
}
